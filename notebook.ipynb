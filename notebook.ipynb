{
 "cells": [
  {
   "cell_type": "markdown",
   "metadata": {},
   "source": [
    "## Oppgave 1\n",
    "### Kjør programmet ovenfor flere ganger. Får du alltid det samme resultatet?\n",
    "\n",
    "\n"
   ]
  },
  {
   "cell_type": "code",
   "execution_count": 29,
   "metadata": {},
   "outputs": [
    {
     "name": "stdout",
     "output_type": "stream",
     "text": [
      "Statuskode: 200\n",
      "{'text': '100 is the number of common administrative grouping unit of homesteads in Northern Europe and Great Britain.', 'number': 100, 'found': True, 'type': 'trivia'}\n",
      "100 is the number of common administrative grouping unit of homesteads in Northern Europe and Great Britain.\n"
     ]
    }
   ],
   "source": [
    "import requests as req\n",
    "\n",
    "url = \"http://numbersapi.com/100?json\"\n",
    "\n",
    "resultat = req.get(url)\n",
    "\n",
    "print(f\"Statuskode: {resultat.status_code}\")\n",
    "\n",
    "data = resultat.json()\n",
    "\n",
    "print(data)\n",
    "print(data[\"text\"])"
   ]
  },
  {
   "cell_type": "markdown",
   "metadata": {},
   "source": [
    "Man får et tilfeldig resultat om 100 grader"
   ]
  },
  {
   "cell_type": "markdown",
   "metadata": {},
   "source": [
    "## Oppgave 2\n",
    "### Lag et program som i eksemplet ovenfor og finn informasjon om noen tall du velger selv.\n"
   ]
  },
  {
   "cell_type": "code",
   "execution_count": 35,
   "metadata": {},
   "outputs": [
    {
     "name": "stdout",
     "output_type": "stream",
     "text": [
      "152 is the number of diapers solder in a Pampers Swaddlers pack. \n",
      "\n",
      "144 is a gross (a dozen dozen). \n",
      "\n",
      "83 is the atomic number of bismuth. \n",
      "\n",
      "45 is the sapphire wedding anniversary in years of marriage. \n",
      "\n",
      "122 is the traffic emergency telephone number in China. \n",
      "\n",
      "127 is the highest signed 8 bit integer. \n",
      "\n",
      "173 is the atomic number of an element temporarily called Unsepttrium. \n",
      "\n",
      "86 is the device number for a lockout relay function in electrical circuit protection schemes. \n",
      "\n",
      "140 is the character-entry limit for Twitter, a well-known characteristic of the service (based on the text messaging limit). \n",
      "\n",
      "22 is the number of letters in the Hebrew alphabet. \n",
      "\n"
     ]
    }
   ],
   "source": [
    "from random import randint\n",
    "\n",
    "for i in range(10):\n",
    "    url = f\"http://numbersapi.com/{randint(10,200)}?json\"\n",
    "    resultat = req.get(url)\n",
    "    data = resultat.json()\n",
    "    print(data[\"text\"],\"\\n\")\n",
    "\n"
   ]
  },
  {
   "cell_type": "markdown",
   "metadata": {},
   "source": [
    "## Oppgave 3\n",
    "### Lag et program som lar en bruker angi et tall med input() , og som skriver ut informasjon om det valgte tallet.\n"
   ]
  },
  {
   "cell_type": "code",
   "execution_count": 36,
   "metadata": {},
   "outputs": [
    {
     "name": "stdout",
     "output_type": "stream",
     "text": [
      "204 is the HTTP status code indicating the request was received but there is no response to the request.\n"
     ]
    }
   ],
   "source": [
    "tall=int(input(\"Skriv inn et tall her: \"))\n",
    "url = f\"http://numbersapi.com/{tall}?json\"\n",
    "resultat = req.get(url)\n",
    "data = resultat.json()\n",
    "print(data[\"text\"])\n",
    "\n"
   ]
  },
  {
   "cell_type": "markdown",
   "metadata": {},
   "source": [
    "## Oppgave 4\n",
    "### Prøv deg fram med de ulike bruksmåtene til API-et «Numbers» som beskrevet ovenfor. Lag programmer som bruker math , year og date .\n"
   ]
  },
  {
   "cell_type": "code",
   "execution_count": 39,
   "metadata": {},
   "outputs": [
    {
     "name": "stdout",
     "output_type": "stream",
     "text": [
      "March 29th is the day in 1871 that the Royal Albert Hall is opened by Queen Victoria. \n",
      "\n",
      "187 is the year that another plague hits Rome. \n",
      "\n",
      "62 is the smallest number that can be written as the sum of of 3 distinct squares in 2 ways. \n",
      "\n"
     ]
    }
   ],
   "source": [
    "from random import randint\n",
    "kategorier = [\"/date\",\"/year\",\"/math\"]\n",
    "\n",
    "for i in range(3):\n",
    "    url = f\"http://numbersapi.com/{randint(10,200)}{kategorier[i]}?json\"\n",
    "    resultat = req.get(url)\n",
    "    data = resultat.json()\n",
    "    print(data[\"text\"],\"\\n\")"
   ]
  },
  {
   "cell_type": "markdown",
   "metadata": {},
   "source": [
    "## Oppgave 5\n",
    "### Lag et program der en bruker kan velge mellom trivia, matematikk og årstall. Brukeren skal deretter oppgi et tall, og programmet skal hente og skrive ut riktig informasjon fra API-et «Numbers».\n"
   ]
  },
  {
   "cell_type": "code",
   "execution_count": 42,
   "metadata": {},
   "outputs": [
    {
     "name": "stdout",
     "output_type": "stream",
     "text": [
      "January 21st is the day in 1789 that the first American novel, The Power of Sympathy or the Triumph of Nature Founded in Truth, is printed in Boston, Massachusetts. \n",
      "\n",
      "January 21st is the day in 2003 that a 7.6 magnitude earthquake strikes the Mexican state of Colima, killing 29 and leaving approximately 10,000 people homeless. \n",
      "\n",
      "January 21st is the day in 1960 that Avianca Flight 671 crashes and burns upon landing at Montego Bay, Jamaica, killing 37. \n",
      "\n",
      "January 21st is the day in 1960 that Avianca Flight 671 crashes and burns upon landing at Montego Bay, Jamaica, killing 37. \n",
      "\n",
      "January 21st is the day in 1915 that Kiwanis International is founded in Detroit, Michigan. \n",
      "\n"
     ]
    }
   ],
   "source": [
    "from random import randint\n",
    "kategorier = [\"/date\",\"/year\",\"/math\"]\n",
    "kategori = int(input(\"Hvilken kategori ønsker du deg? Dato: 0, Aar: 1, Matte: 2\"))\n",
    "tall=int(input(\"Skriv inn et tall her: \"))\n",
    "\n",
    "for i in range(5):\n",
    "    url = f\"http://numbersapi.com/{tall}{kategorier[kategori]}?json\"\n",
    "    resultat = req.get(url)\n",
    "    data = resultat.json()\n",
    "    print(data[\"text\"],\"\\n\")"
   ]
  },
  {
   "cell_type": "markdown",
   "metadata": {},
   "source": [
    "## Oppgave 6\n",
    "### Gå inn på http://numbersapi.com/ og finn ut hvordan du kan hente ut informasjon om flere tall på en gang («Batch requests»). Lag et program der en bruker kan angi et start- og et sluttall med input() , og som skriver ut informasjon om alle tallene brukeren har valgt."
   ]
  },
  {
   "cell_type": "markdown",
   "metadata": {},
   "source": [
    "fra APIen:\n",
    "BATCH REQUESTS\n",
    "To get facts about multiple numbers in one request, specify ranges for number in http://numbersapi.com/number/type.\n",
    "\n",
    "A number range (inclusive) is specified as min..max. Separate multiple ranges and individual numbers with , (a comma).\n",
    "\n",
    "The response format will always be a JSON map from numbers to facts, of at most 100 numbers. The query parameter json may still be used to specify whether individual facts will be returned as string literals or JSON objects.\n"
   ]
  },
  {
   "cell_type": "code",
   "execution_count": 56,
   "metadata": {},
   "outputs": [
    {
     "name": "stdout",
     "output_type": "stream",
     "text": [
      "1 is the number of moons orbiting Earth. \n",
      "\n",
      "2 is the price in cents per acre the USA bought Alaska from Russia. \n",
      "\n",
      "3 is the number of semicircular canals a human ear has. \n",
      "\n",
      "4 is the number of completed, numbered symphonies by Johannes Brahms. \n",
      "\n",
      "5 is the most common number of gears for automobiles with manual transmission. \n",
      "\n"
     ]
    }
   ],
   "source": [
    "from random import randint\n",
    "\n",
    "url = f\"http://numbersapi.com/1..5?json\"\n",
    "resultat = req.get(url)\n",
    "data = resultat.json()\n",
    "for i in range(10):\n",
    "    #Sjekker om den eksisterer i json ordboka\n",
    "    key=str(i)\n",
    "    if key in data:\n",
    "        print(data[key],\"\\n\")\n",
    "\n"
   ]
  },
  {
   "cell_type": "markdown",
   "metadata": {},
   "source": [
    "## Oppgave 7\n",
    "### Det finnes mange enkle og åpne API-er som «Numbers». Velg ett eller flere API-er fra lista nedenfor, finn ut hvordan det/de brukes, og lag programmer som bruker API-et/API-ene på en fornuftig måte. Du kan selvfølgelig også finne andre API-er på egen hånd.\n"
   ]
  },
  {
   "cell_type": "markdown",
   "metadata": {},
   "source": [
    "#### Hvor er den internasjonale romstasjonen (ISS) akkurat nå?"
   ]
  },
  {
   "cell_type": "code",
   "execution_count": 112,
   "metadata": {},
   "outputs": [
    {
     "name": "stdout",
     "output_type": "stream",
     "text": [
      "{'iss_position': {'latitude': '-44.3550', 'longitude': '18.1271'}, 'timestamp': 1700133623, 'message': 'success'}\n"
     ]
    }
   ],
   "source": [
    "url = \"http://api.open-notify.org/iss-now.json\"\n",
    "resultat = req.get(url)\n",
    "data = resultat.json()\n",
    "print(data)"
   ]
  },
  {
   "cell_type": "markdown",
   "metadata": {},
   "source": [
    "#### Kattefakta"
   ]
  },
  {
   "cell_type": "code",
   "execution_count": 133,
   "metadata": {},
   "outputs": [
    {
     "name": "stdout",
     "output_type": "stream",
     "text": [
      "Owning a cat can reduce the risk of stroke and heart attack by a third.\n",
      "Most cats are lactose intolerant, and milk can cause painful stomach cramps and diarrhea. It's best to forego the milk and just give your cat the standard: clean, cool drinking water.\n",
      "Domestic cats spend about 70 percent of the day sleeping and 15 percent of the day grooming.\n",
      "The frequency of a domestic cat's purr is the same at which muscles and bones repair themselves.\n",
      "Cats are the most popular pet in the United States: There are 88 million pet cats and 74 million dogs.\n"
     ]
    }
   ],
   "source": [
    "url = \"https://cat-fact.herokuapp.com/facts\"\n",
    "resultat = req.get(url)\n",
    "data = resultat.json()\n",
    "\n",
    "# Extract 'text' values from each dictionary\n",
    "text_list = [entry['text'] for entry in data]\n",
    "\n",
    "for text in text_list:\n",
    "    print(text)"
   ]
  },
  {
   "cell_type": "markdown",
   "metadata": {},
   "source": [
    "##  Vær-data fra meteorologisk institutt"
   ]
  },
  {
   "cell_type": "code",
   "execution_count": 178,
   "metadata": {},
   "outputs": [
    {
     "name": "stdout",
     "output_type": "stream",
     "text": [
      "Data retrieved from frost.met.no!\n"
     ]
    },
    {
     "data": {
      "image/png": "[encoded data removed]",
      "text/plain": [
       "<Figure size 1000x600 with 1 Axes>"
      ]
     },
     "metadata": {},
     "output_type": "display_data"
    }
   ],
   "source": [
    "# For å autorieseres\n",
    "klient_id = \"cfff8120-a419-49e6-87c0-67895c856108\"\n",
    "# Endepunktet\n",
    "url = 'https://frost.met.no/observations/v0.jsonld'\n",
    "# Parametre som kreves?\n",
    "parameters = {\n",
    "    'sources': 'SN18700, SN90450', #Værstasjoner: SN18700 er i Blindern, Oslo. Den andre er i Tromsø\n",
    "    'elements': 'mean(air_temperature P1D)', #mean er gjennomsnittet\n",
    "    'referencetime': '2023-11-01/2023-11-11',\n",
    "}\n",
    "# Forspørselen (resultatet)\n",
    "r = req.get(url, parameters, auth=(klient_id,''))\n",
    "\n",
    "# Gjøre om resultatet til JSON\n",
    "json = r.json()\n",
    "\n",
    "# Errorhåndtering fra nettsiden deres\n",
    "if r.status_code == 200:\n",
    "    data = json['data']\n",
    "    print('Data retrieved from frost.met.no!')\n",
    "else:\n",
    "    print('Error! Returned status code %s' % r.status_code)\n",
    "    print('Message: %s' % json['error']['message'])\n",
    "    print('Reason: %s' % json['error']['reason'])\n",
    "\n",
    "\n",
    "\n",
    "import matplotlib.pyplot as plt\n",
    "import pandas as pd\n",
    "\n",
    "# Your data here (copy-paste the provided data)\n",
    "\n",
    "# Extracting dates and corresponding temperatures\n",
    "dates = []\n",
    "temperatures = []\n",
    "\n",
    "for entry in data:\n",
    "    date = entry['referenceTime'][:10]\n",
    "    mean_temp = entry['observations'][0]['value']\n",
    "    dates.append(date)\n",
    "    temperatures.append(mean_temp)\n",
    "\n",
    "# Creating a DataFrame for easier manipulation\n",
    "df = pd.DataFrame({'Date': dates, 'Temperature (degC)': temperatures})\n",
    "\n",
    "# Sorting DataFrame by date\n",
    "df['Date'] = pd.to_datetime(df['Date'])\n",
    "df = df.sort_values(by='Date')\n",
    "\n",
    "# Plotting the bar chart\n",
    "plt.figure(figsize=(10, 6))\n",
    "plt.bar(df['Date'], df['Temperature (degC)'], color='blue')\n",
    "plt.xlabel('Date')\n",
    "plt.ylabel('Temperatur (i Celcius)')\n",
    "plt.title('Temperaturen fra 01/11/2023 til 10/11/2023')\n",
    "plt.xticks(rotation=45)\n",
    "plt.tight_layout()\n",
    "plt.show()\n",
    "\n",
    "\n"
   ]
  },
  {
   "cell_type": "code",
   "execution_count": 189,
   "metadata": {},
   "outputs": [
    {
     "data": {
      "image/png": "[encoded data removed]",
      "text/plain": [
       "<Figure size 1200x600 with 1 Axes>"
      ]
     },
     "metadata": {},
     "output_type": "display_data"
    }
   ],
   "source": [
    "import matplotlib.pyplot as plt\n",
    "from datetime import datetime\n",
    "\n",
    "# Din data her (kopier og lim inn den gitte dataen)\n",
    "\n",
    "# Ekstraherer datoer, tilhørende temperaturer, og byinformasjon\n",
    "datoer = []\n",
    "temperaturer = []\n",
    "byer = []\n",
    "\n",
    "for entry in data:\n",
    "    dato = datetime.strptime(entry['referenceTime'][:10], '%Y-%m-%d')\n",
    "    gjennomsnittstemperatur = entry['observations'][0]['value']\n",
    "    by = 'Oslo' if entry['sourceId'] == 'SN18700:0' else 'Tromsø'\n",
    "    \n",
    "    datoer.append(dato)\n",
    "    temperaturer.append(gjennomsnittstemperatur)\n",
    "    byer.append(by)\n",
    "\n",
    "# Sorterer datoer\n",
    "sortert_data = sorted(zip(datoer, temperaturer, byer))\n",
    "sorterte_datoer, sorterte_temperaturer, sorterte_byer = zip(*sortert_data)\n",
    "\n",
    "# Finner unike datoer\n",
    "unike_datoer = list(set(sorterte_datoer))\n",
    "bar_bredde = 0.4  # Juster bredden på stolpene\n",
    "\n",
    "# Plotter stolpediagrammet med stolper for Oslo og Tromsø side om side med mellomrom mellom dagene\n",
    "plt.figure(figsize=(12, 6))\n",
    "for i, by in enumerate(set(sorterte_byer)):\n",
    "    by_indices = [j for j, c in enumerate(sorterte_byer) if c == by]\n",
    "    posisjoner = [unike_datoer.index(sorterte_datoer[j]) + i * bar_bredde for j in by_indices]\n",
    "    plt.bar(posisjoner, [sorterte_temperaturer[j] for j in by_indices], width=bar_bredde, label=by)\n",
    "\n",
    "plt.xlabel('Dato')\n",
    "plt.ylabel('Temperatur (degC)')\n",
    "plt.title('Temperatur fra 2023-11-01 til 2023-11-10')\n",
    "plt.xticks([unike_datoer.index(dato) + 0.5 * (len(set(sorterte_byer)) - 1) * bar_bredde for dato in sorterte_datoer], sorterte_datoer, rotation=45)\n",
    "plt.legend()\n",
    "plt.tight_layout()\n",
    "plt.show()\n"
   ]
  },
  {
   "cell_type": "markdown",
   "metadata": {},
   "source": [
    "### Etterord:"
   ]
  }
 ],
 "metadata": {
  "kernelspec": {
   "display_name": "Python 3",
   "language": "python",
   "name": "python3"
  },
  "language_info": {
   "codemirror_mode": {
    "name": "ipython",
    "version": 3
   },
   "file_extension": ".py",
   "mimetype": "text/x-python",
   "name": "python",
   "nbconvert_exporter": "python",
   "pygments_lexer": "ipython3",
   "version": "3.11.4"
  }
 },
 "nbformat": 4,
 "nbformat_minor": 2
}
