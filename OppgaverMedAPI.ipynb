{
 "cells": [
  {
   "cell_type": "markdown",
   "metadata": {},
   "source": [
    "## Oppgave 1\n",
    "### Kjør programmet ovenfor flere ganger. Får du alltid det samme resultatet?\n",
    "\n",
    "\n"
   ]
  },
  {
   "cell_type": "code",
   "execution_count": 2,
   "metadata": {},
   "outputs": [
    {
     "name": "stdout",
     "output_type": "stream",
     "text": [
      "Statuskode: 200\n",
      "{'text': '100 is the number of years in a century.', 'number': 100, 'found': True, 'type': 'trivia'}\n",
      "100 is the number of years in a century.\n"
     ]
    }
   ],
   "source": [
    "import requests as req\n",
    "\n",
    "url = \"http://numbersapi.com/100?json\"\n",
    "\n",
    "resultat = req.get(url)\n",
    "\n",
    "print(f\"Statuskode: {resultat.status_code}\")\n",
    "\n",
    "data = resultat.json()\n",
    "\n",
    "print(data)\n",
    "print(data[\"text\"])"
   ]
  },
  {
   "cell_type": "markdown",
   "metadata": {},
   "source": [
    "Man får et tilfeldig resultat om 100 grader"
   ]
  },
  {
   "cell_type": "markdown",
   "metadata": {},
   "source": [
    "## Oppgave 2\n",
    "### Lag et program som i eksemplet ovenfor og finn informasjon om noen tall du velger selv.\n"
   ]
  },
  {
   "cell_type": "code",
   "execution_count": 3,
   "metadata": {},
   "outputs": [
    {
     "name": "stdout",
     "output_type": "stream",
     "text": [
      "127 is the atomic number of Unbiseptium, an element that has not yet been discovered. \n",
      "\n",
      "192 is the population of Bide Arm in Newfoundland and Labrador, Canada. \n",
      "\n",
      "145 is the atomic number of Unquadpentium. \n",
      "\n",
      "100 is the number of pounds in an American short hundredweight. \n",
      "\n",
      "178 is the rank of Samoa in world population. \n",
      "\n",
      "187 is 187th Street in the Washington Heights section of Manhattan. \n",
      "\n",
      "78 is the atomic number of platinum. \n",
      "\n",
      "44 is the percentage of kids who watch television before they go to sleep in the US. \n",
      "\n",
      "57 is the number of cm that the smallest man measured, Gul Mohammed (1957-1997) of India. \n",
      "\n",
      "143 is the number of episodes of the TV series The Adventures of Robin Hood on CBS from 1955 to 1959. \n",
      "\n"
     ]
    }
   ],
   "source": [
    "from random import randint\n",
    "\n",
    "for i in range(10):\n",
    "    url = f\"http://numbersapi.com/{randint(10,200)}?json\"\n",
    "    resultat = req.get(url)\n",
    "    data = resultat.json()\n",
    "    print(data[\"text\"],\"\\n\")\n",
    "\n"
   ]
  },
  {
   "cell_type": "markdown",
   "metadata": {},
   "source": [
    "## Oppgave 3\n",
    "### Lag et program som lar en bruker angi et tall med input() , og som skriver ut informasjon om det valgte tallet.\n"
   ]
  },
  {
   "cell_type": "code",
   "execution_count": 4,
   "metadata": {},
   "outputs": [
    {
     "name": "stdout",
     "output_type": "stream",
     "text": [
      "10 is the number of fingers on a pair of human hands.\n"
     ]
    }
   ],
   "source": [
    "tall=int(input(\"Skriv inn et tall her: \"))\n",
    "url = f\"http://numbersapi.com/{tall}?json\"\n",
    "resultat = req.get(url)\n",
    "data = resultat.json()\n",
    "print(data[\"text\"])\n",
    "\n"
   ]
  },
  {
   "cell_type": "markdown",
   "metadata": {},
   "source": [
    "## Oppgave 4\n",
    "### Prøv deg fram med de ulike bruksmåtene til API-et «Numbers» som beskrevet ovenfor. Lag programmer som bruker math , year og date .\n"
   ]
  },
  {
   "cell_type": "code",
   "execution_count": 5,
   "metadata": {},
   "outputs": [
    {
     "name": "stdout",
     "output_type": "stream",
     "text": [
      "July 16th is the day in 1951 that the Catcher in the Rye by J.D. \n",
      "\n",
      "37 is the year that the Roman Senate annuls Tiberius's will and proclaims Caligula Roman Emperor on March 18th. \n",
      "\n",
      "168 is the product of first two perfect numbers. \n",
      "\n"
     ]
    }
   ],
   "source": [
    "from random import randint\n",
    "kategorier = [\"/date\",\"/year\",\"/math\"]\n",
    "\n",
    "for i in range(3):\n",
    "    url = f\"http://numbersapi.com/{randint(10,200)}{kategorier[i]}?json\"\n",
    "    resultat = req.get(url)\n",
    "    data = resultat.json()\n",
    "    print(data[\"text\"],\"\\n\")"
   ]
  },
  {
   "cell_type": "markdown",
   "metadata": {},
   "source": [
    "## Oppgave 5\n",
    "### Lag et program der en bruker kan velge mellom trivia, matematikk og årstall. Brukeren skal deretter oppgi et tall, og programmet skal hente og skrive ut riktig informasjon fra API-et «Numbers».\n"
   ]
  },
  {
   "cell_type": "code",
   "execution_count": 6,
   "metadata": {},
   "outputs": [
    {
     "name": "stdout",
     "output_type": "stream",
     "text": [
      "January 10th is the day in 1927 that Fritz Lang's futuristic film Metropolis is released in Germany. \n",
      "\n",
      "January 10th is the day in 1929 that the Adventures of Tintin, one of the most popular European comic books ever, is first published in Belgium. \n",
      "\n",
      "January 10th is the day in 2007 that a general strike begins in Guinea in an eventually successful attempt to get President Lansana Conté to resign. \n",
      "\n",
      "January 10th is the day in 2007 that a general strike begins in Guinea in an eventually successful attempt to get President Lansana Conté to resign. \n",
      "\n",
      "January 10th is the day in 1645 that Archbishop William Laud is beheaded at the Tower of London. \n",
      "\n"
     ]
    }
   ],
   "source": [
    "from random import randint\n",
    "kategorier = [\"/date\",\"/year\",\"/math\"]\n",
    "kategori = int(input(\"Hvilken kategori ønsker du deg? Dato: 0, Aar: 1, Matte: 2\"))\n",
    "tall=int(input(\"Skriv inn et tall her: \"))\n",
    "\n",
    "for i in range(5):\n",
    "    url = f\"http://numbersapi.com/{tall}{kategorier[kategori]}?json\"\n",
    "    resultat = req.get(url)\n",
    "    data = resultat.json()\n",
    "    print(data[\"text\"],\"\\n\")"
   ]
  },
  {
   "cell_type": "markdown",
   "metadata": {},
   "source": [
    "## Oppgave 6\n",
    "### Gå inn på http://numbersapi.com/ og finn ut hvordan du kan hente ut informasjon om flere tall på en gang («Batch requests»). Lag et program der en bruker kan angi et start- og et sluttall med input() , og som skriver ut informasjon om alle tallene brukeren har valgt."
   ]
  },
  {
   "cell_type": "markdown",
   "metadata": {},
   "source": [
    "fra APIen:\n",
    "BATCH REQUESTS\n",
    "To get facts about multiple numbers in one request, specify ranges for number in http://numbersapi.com/number/type.\n",
    "\n",
    "A number range (inclusive) is specified as min..max. Separate multiple ranges and individual numbers with , (a comma).\n",
    "\n",
    "The response format will always be a JSON map from numbers to facts, of at most 100 numbers. The query parameter json may still be used to specify whether individual facts will be returned as string literals or JSON objects.\n"
   ]
  },
  {
   "cell_type": "code",
   "execution_count": 7,
   "metadata": {},
   "outputs": [
    {
     "name": "stdout",
     "output_type": "stream",
     "text": [
      "1 is the loneliest number. \n",
      "\n",
      "2 is the number of polynucleotide strands in a DNA double helix. \n",
      "\n",
      "3 is the number of witches in William Shakespeare's Macbeth. \n",
      "\n",
      "4 is the number of bits in a nibble, equivalent to half a byte. \n",
      "\n",
      "5 is the number of kyu (pupil) grades in judo. \n",
      "\n"
     ]
    }
   ],
   "source": [
    "from random import randint\n",
    "\n",
    "url = f\"http://numbersapi.com/1..5?json\"\n",
    "resultat = req.get(url)\n",
    "data = resultat.json()\n",
    "for i in range(10):\n",
    "    #Sjekker om den eksisterer i json ordboka\n",
    "    key=str(i)\n",
    "    if key in data:\n",
    "        print(data[key],\"\\n\")\n",
    "\n"
   ]
  },
  {
   "cell_type": "markdown",
   "metadata": {},
   "source": [
    "## Oppgave 7\n",
    "### Det finnes mange enkle og åpne API-er som «Numbers». Velg ett eller flere API-er fra lista nedenfor, finn ut hvordan det/de brukes, og lag programmer som bruker API-et/API-ene på en fornuftig måte. Du kan selvfølgelig også finne andre API-er på egen hånd.\n"
   ]
  },
  {
   "cell_type": "markdown",
   "metadata": {},
   "source": [
    "#### Hvor er den internasjonale romstasjonen (ISS) akkurat nå?"
   ]
  },
  {
   "cell_type": "code",
   "execution_count": 8,
   "metadata": {},
   "outputs": [
    {
     "name": "stdout",
     "output_type": "stream",
     "text": [
      "{'message': 'success', 'iss_position': {'longitude': '115.2380', 'latitude': '-3.7435'}, 'timestamp': 1700206972}\n"
     ]
    }
   ],
   "source": [
    "url = \"http://api.open-notify.org/iss-now.json\"\n",
    "resultat = req.get(url)\n",
    "data = resultat.json()\n",
    "print(data)"
   ]
  },
  {
   "cell_type": "markdown",
   "metadata": {},
   "source": [
    "#### Kattefakta"
   ]
  },
  {
   "cell_type": "code",
   "execution_count": 9,
   "metadata": {},
   "outputs": [
    {
     "name": "stdout",
     "output_type": "stream",
     "text": [
      "When asked if her husband had any hobbies, Mary Todd Lincoln is said to have replied \"cats.\"\n",
      "Cats make about 100 different sounds. Dogs make only about 10.\n",
      "Owning a cat can reduce the risk of stroke and heart attack by a third.\n",
      "Most cats are lactose intolerant, and milk can cause painful stomach cramps and diarrhea. It's best to forego the milk and just give your cat the standard: clean, cool drinking water.\n",
      "It was illegal to slay cats in ancient Egypt, in large part because they provided the great service of controlling the rat population.\n"
     ]
    }
   ],
   "source": [
    "url = \"https://cat-fact.herokuapp.com/facts\"\n",
    "resultat = req.get(url)\n",
    "data = resultat.json()\n",
    "\n",
    "# Extract 'text' values from each dictionary\n",
    "text_list = [entry['text'] for entry in data]\n",
    "\n",
    "for text in text_list:\n",
    "    print(text)"
   ]
  },
  {
   "cell_type": "markdown",
   "metadata": {},
   "source": [
    "##  Vær-data fra meteorologisk institutt"
   ]
  },
  {
   "cell_type": "code",
   "execution_count": 26,
   "metadata": {},
   "outputs": [
    {
     "name": "stdout",
     "output_type": "stream",
     "text": [
      "Data hentet fra frost.met.no!\n"
     ]
    },
    {
     "data": {
      "text/plain": [
       "<Figure size 1200x600 with 0 Axes>"
      ]
     },
     "metadata": {},
     "output_type": "display_data"
    },
    {
     "data": {
      "image/png": "[encoded data removed]",
      "text/plain": [
       "<Figure size 1200x600 with 1 Axes>"
      ]
     },
     "metadata": {},
     "output_type": "display_data"
    }
   ],
   "source": [
    "import matplotlib.pyplot as plt\n",
    "from datetime import datetime\n",
    "\n",
    "# For å autorieseres\n",
    "klient_id = \"cfff8120-a419-49e6-87c0-67895c856108\"\n",
    "# Endepunktet\n",
    "url = 'https://frost.met.no/observations/v0.jsonld'\n",
    "# Parametre som kreves?\n",
    "parameters = {\n",
    "    'sources': 'SN18700, SN90450', # Værstasjoner: SN18700 er i Blindern, Oslo. Den andre er i Tromsø\n",
    "    'elements': 'mean(air_temperature P1D)', # mean er gjennomsnittstemperatur, man kan velge andre variabler man ønsker å importere\n",
    "    'referencetime': '2023-11-01/2023-11-11', # ønsket tidsrom for dataene\n",
    "}\n",
    "# Forspørselen (resultatet)\n",
    "r = req.get(url, parameters, auth=(klient_id,''))\n",
    "\n",
    "# Gjøre om resultatet til JSON\n",
    "json = r.json()\n",
    "\n",
    "# Errorhåndtering fra nettsiden deres, hvis ingenting er galt definerer den datsen i json format\n",
    "if r.status_code == 200:\n",
    "    data = json['data']\n",
    "    print('Data hentet fra frost.met.no!')\n",
    "else:\n",
    "    print('Error! Returned status code %s' % r.status_code)\n",
    "    print('Message: %s' % json['error']['message'])\n",
    "    print('Reason: %s' % json['error']['reason'])\n",
    "\n",
    "# Lager lister for datoer, temperaturer og byer\n",
    "datoer = []\n",
    "temperaturer = []\n",
    "byer = []\n",
    "\n",
    "# Appender datoene fra dataen, bruker datetime for å gjøre om datoene fra json dataen\n",
    "for entry in data:\n",
    "    dato = datetime.strptime(entry['referenceTime'][:10], '%Y-%m-%d') \n",
    "    gjennomsnittstemperatur = entry['observations'][0]['value'] \n",
    "    by = 'Oslo' if entry['sourceId'] == 'SN18700:0' else 'Tromsø'\n",
    "\n",
    "    datoer.append(dato)\n",
    "    temperaturer.append(gjennomsnittstemperatur)\n",
    "    byer.append(by)\n",
    "\n",
    "\n",
    "# Sorterer dato ved å først gjøre dem om til tupler, for å så sortere etter dato, og gjør om igjen til lister\n",
    "sortert_data = sorted(zip(datoer, temperaturer, byer))\n",
    "sorterte_datoer, sorterte_temperaturer, sorterte_byer = zip(*sortert_data)\n",
    "\n",
    "# Set kan brukes for å fjerne duplikate elementer i en liste, så her ender man kun opp med unike datoer\n",
    "unike_datoer = list(set(sorterte_datoer))\n",
    "bar_bredde = 0.4  # Juster bredden på stolpene\n",
    "\n",
    "# Plotter stolpediagrammet med stolper for Oslo og Tromsø side om side med mellomrom mellom dagene\n",
    "plt.figure(figsize=(12, 6))\n",
    "# Sorterer data\n",
    "sorterte_data = sorted(zip(datoer, temperaturer, byer))\n",
    "sorterte_datoer, sorterte_temperaturer, sorterte_byer = zip(*sorterte_data)\n",
    "\n",
    "# Finner unike datoer\n",
    "unike_datoer = list(set(sorterte_datoer))\n",
    "stolpe_bredde = 0.4  # Justerer bredden på stolpene\n",
    "\n",
    "# Plotter stolpediagrammet med stolper for hver by side om side med mellomrom mellom dagene\n",
    "plt.figure(figsize=(12, 6))\n",
    "for by_indeks, by in enumerate(set(sorterte_byer)):\n",
    "    indekser = [i for i, c in enumerate(sorterte_byer) if c == by]\n",
    "    posisjoner = [unike_datoer.index(sorterte_datoer[i]) + by_indeks * stolpe_bredde for i in indekser]\n",
    "    plt.bar(posisjoner, [sorterte_temperaturer[i] for i in indekser], width=stolpe_bredde, label=by)\n",
    "\n",
    "plt.xlabel('Dato')\n",
    "plt.ylabel('Temperatur i Celcius')\n",
    "plt.title('Temperatur fra 01.11.2023 til 10.11.2023')\n",
    "plt.xticks([unike_datoer.index(dato) + 0.5 * (len(set(sorterte_byer)) - 1) * stolpe_bredde for dato in sorterte_datoer], sorterte_datoer, rotation=45)\n",
    "plt.legend()\n",
    "plt.tight_layout()\n",
    "plt.show()\n",
    "\n"
   ]
  },
  {
   "cell_type": "markdown",
   "metadata": {},
   "source": [
    "### Etterord:"
   ]
  }
 ],
 "metadata": {
  "kernelspec": {
   "display_name": "Python 3",
   "language": "python",
   "name": "python3"
  },
  "language_info": {
   "codemirror_mode": {
    "name": "ipython",
    "version": 3
   },
   "file_extension": ".py",
   "mimetype": "text/x-python",
   "name": "python",
   "nbconvert_exporter": "python",
   "pygments_lexer": "ipython3",
   "version": "3.11.4"
  }
 },
 "nbformat": 4,
 "nbformat_minor": 2
}
